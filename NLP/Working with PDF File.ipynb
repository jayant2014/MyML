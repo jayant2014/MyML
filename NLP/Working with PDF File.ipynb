{
 "cells": [
  {
   "cell_type": "code",
   "execution_count": 1,
   "metadata": {},
   "outputs": [],
   "source": [
    "import PyPDF2 as pdf"
   ]
  },
  {
   "cell_type": "code",
   "execution_count": 2,
   "metadata": {},
   "outputs": [],
   "source": [
    "fh = open('/Users/jayantparida/Desktop/AlgoDailyBookCoreEssentials.pdf', 'rb')"
   ]
  },
  {
   "cell_type": "code",
   "execution_count": 3,
   "metadata": {},
   "outputs": [
    {
     "data": {
      "text/plain": [
       "<_io.BufferedReader name='/Users/jayantparida/Desktop/AlgoDailyBookCoreEssentials.pdf'>"
      ]
     },
     "execution_count": 3,
     "metadata": {},
     "output_type": "execute_result"
    }
   ],
   "source": [
    "fh"
   ]
  },
  {
   "cell_type": "code",
   "execution_count": 4,
   "metadata": {},
   "outputs": [],
   "source": [
    "# Create an object\n",
    "pdf_reader = pdf.PdfFileReader(fh)"
   ]
  },
  {
   "cell_type": "code",
   "execution_count": 5,
   "metadata": {},
   "outputs": [
    {
     "data": {
      "text/plain": [
       "<PyPDF2.pdf.PdfFileReader at 0x7fd68a064c50>"
      ]
     },
     "execution_count": 5,
     "metadata": {},
     "output_type": "execute_result"
    }
   ],
   "source": [
    "pdf_reader"
   ]
  },
  {
   "cell_type": "code",
   "execution_count": 6,
   "metadata": {},
   "outputs": [
    {
     "data": {
      "text/plain": [
       "737"
      ]
     },
     "execution_count": 6,
     "metadata": {},
     "output_type": "execute_result"
    }
   ],
   "source": [
    "pdf_reader.numPages"
   ]
  },
  {
   "cell_type": "code",
   "execution_count": 10,
   "metadata": {},
   "outputs": [
    {
     "name": "stdout",
     "output_type": "stream",
     "text": [
      "{'/Tabs': '/S', '/Group': {'/S': '/Transparency', '/Type': '/Group', '/CS': '/DeviceRGB'}, '/Contents': [IndirectObject(201, 0), IndirectObject(2434, 0), IndirectObject(202, 0)], '/Type': '/Page', '/Resources': {'/ExtGState': {'/GS9': IndirectObject(2228, 0), '/GS6': IndirectObject(2229, 0)}, '/ProcSet': ['/PDF', '/Text', '/ImageB', '/ImageC', '/ImageI'], '/XObject': {'/Xi10': IndirectObject(2, 0), '/Image942': IndirectObject(2435, 0), '/Image56': IndirectObject(2285, 0)}, '/Font': {'/F8': IndirectObject(2436, 0), '/F9': IndirectObject(2437, 0), '/F1': IndirectObject(2231, 0), '/F2': IndirectObject(2237, 0), '/F3': IndirectObject(2238, 0), '/F6': IndirectObject(2287, 0)}}, '/Parent': IndirectObject(1488, 0), '/Annots': [IndirectObject(2438, 0), IndirectObject(2439, 0), IndirectObject(2440, 0), IndirectObject(2441, 0)], '/StructParents': 859, '/MediaBox': [0, 0, 612, 792]}\n"
     ]
    }
   ],
   "source": [
    "page10 = pdf_reader.getPage(10)\n",
    "print(page10)"
   ]
  },
  {
   "cell_type": "code",
   "execution_count": 11,
   "metadata": {},
   "outputs": [],
   "source": [
    "# Get the text data\n",
    "page10_text = page10.extractText()"
   ]
  },
  {
   "cell_type": "code",
   "execution_count": 12,
   "metadata": {},
   "outputs": [
    {
     "name": "stdout",
     "output_type": "stream",
     "text": [
      " \n",
      "7\n",
      " \n",
      "ALGODAILY\n",
      ".COM\n",
      " \n",
      "How to Prepare for \n",
      " \n",
      "a Technical Interview\n",
      " \n",
      " \n",
      "Technical Interview preparation is hard, and that's why \n",
      "AlgoDaily\n",
      " \n",
      "exists. However, it's \n",
      "important to know exactly \n",
      "how\n",
      " \n",
      "to prepare. We're talking about the schedule to set, the \n",
      "cadence, what problems and concepts to focus on, and exactly how to actually study.\n",
      " \n",
      "Most people waste time in their efforts. This tutorial will go through everything you need to \n",
      "read, \n",
      "observe, and do in order to go into your interview with confidence.\n",
      " \n",
      "This guide also assumes that you've already landed the interview and are preparing for on\n",
      "-\n",
      "sites, though the advice here is definitely applicable for technical phone screens as well.\n",
      " \n",
      "So fir\n",
      "st, a word on timing.\n",
      " \n",
      " \n",
      " \n",
      "\n"
     ]
    }
   ],
   "source": [
    "print(page10_text)"
   ]
  },
  {
   "cell_type": "code",
   "execution_count": 14,
   "metadata": {},
   "outputs": [
    {
     "name": "stdout",
     "output_type": "stream",
     "text": [
      " \n",
      "8\n",
      " \n",
      "ALGODAILY\n",
      ".COM\n",
      " \n",
      "How Long Do I Need?\n",
      " \n",
      "\n",
      "-\n",
      "term technical preparation\n",
      "\n",
      " \n",
      "the longer the \n",
      "better. As a general recommendation, roughly \n",
      "2\n",
      "-\n",
      "3 months\n",
      " \n",
      "to get fully prepared. This lets \n",
      "you get in around \n",
      "60\n",
      "-\n",
      "120 challen\n",
      "ges\n",
      ", which seems to be the amount you need to do to build \n",
      "the algorithmic intuition.\n",
      " \n",
      "Obviously this depends on work experience, familiarity with computer science \n",
      "fundamentals, and proximity to interviews themselves.\n",
      " \n",
      "It may take 3\n",
      "-\n",
      "6 months for a new bootcam\n",
      "p grad with zero exposure to data structures and \n",
      "algorithms to get fully ramped. On the other hand, it could take take \n",
      "1\n",
      "-\n",
      "2 weeks\n",
      " \n",
      "for a low\n",
      "-\n",
      "level Senior Systems Engineer.\n",
      " \n",
      "\n",
      "rep? \n",
      "Depends on you, but it's certainly doable\n",
      "--\n",
      " \n",
      "\n",
      "and hitting the major themes.\n",
      " \n",
      "\n",
      "-\n",
      "2 problems a day \n",
      "the right \n",
      "way\n",
      ", and perhaps include some light\n",
      " \n",
      "reading. We'll get to that in how to study individual \n",
      "coding problems.\n",
      " \n",
      " \n",
      "Best Materials to Prep\n",
      " \n",
      "I think it goes without saying that \n",
      "I'd recommend AlgoDaily\n",
      ", so let's get that out of the way.\n",
      " \n",
      "Many people swear by our\n",
      " \n",
      "daily newsletter and premium challenges to do well in interviews. \n",
      "I'd recommend trying a problem today and seeing if our walkthroughs, code visualizations, \n",
      "and newsletter are helpful in understanding the more complex algorithms.\n",
      " \n",
      "For those looking for a li\n",
      "ttle less\n",
      "-\n",
      "hand holding, here's a list of coding interview sites with tons \n",
      "of sample problems:\n",
      " \n",
      "\n",
      " \n",
      "https://leetcode.com\n",
      " \n",
      "-\n",
      " \n",
      "You've probably heard of these guys. Tons of questions, \n",
      "community\n",
      "-\n",
      "driven. Decent IDE, well known.\n",
      " \n",
      "\n",
      " \n",
      "https://hackerrank.com\n",
      " \n",
      "-\n",
      " \n",
      "More for recruiting purposes nowadays, but same idea.\n",
      " \n",
      "\n",
      " \n",
      "https://topcoder.com\n",
      " \n",
      "-\n",
      " \n",
      "Known for competitive programming, but same idea as well.\n",
      " \n",
      "\n",
      " \n",
      "https://geeksforgeeks.org\n",
      " \n",
      "-\n",
      " \n",
      "Tons of questions, explanations are hit or miss though.\n",
      " \n",
      " \n",
      "\n"
     ]
    }
   ],
   "source": [
    "page11 = pdf_reader.getPage(11)\n",
    "page11_text = page11.extractText()\n",
    "print(page11_text)"
   ]
  },
  {
   "cell_type": "code",
   "execution_count": null,
   "metadata": {},
   "outputs": [],
   "source": []
  }
 ],
 "metadata": {
  "kernelspec": {
   "display_name": "Python 3",
   "language": "python",
   "name": "python3"
  },
  "language_info": {
   "codemirror_mode": {
    "name": "ipython",
    "version": 3
   },
   "file_extension": ".py",
   "mimetype": "text/x-python",
   "name": "python",
   "nbconvert_exporter": "python",
   "pygments_lexer": "ipython3",
   "version": "3.7.6"
  }
 },
 "nbformat": 4,
 "nbformat_minor": 4
}
