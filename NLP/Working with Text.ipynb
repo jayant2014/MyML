{
 "cells": [
  {
   "cell_type": "markdown",
   "metadata": {},
   "source": [
    "### String Formatter "
   ]
  },
  {
   "cell_type": "code",
   "execution_count": 1,
   "metadata": {},
   "outputs": [],
   "source": [
    "str = 'Hello World'"
   ]
  },
  {
   "cell_type": "code",
   "execution_count": 3,
   "metadata": {},
   "outputs": [
    {
     "name": "stdout",
     "output_type": "stream",
     "text": [
      "Welcome Hello World\n"
     ]
    }
   ],
   "source": [
    "print('Welcome {}'.format(str))"
   ]
  },
  {
   "cell_type": "code",
   "execution_count": 4,
   "metadata": {},
   "outputs": [
    {
     "name": "stdout",
     "output_type": "stream",
     "text": [
      "Welcome Hello World\n"
     ]
    }
   ],
   "source": [
    "# Using f-strings\n",
    "print(f'Welcome {str}')"
   ]
  },
  {
   "cell_type": "code",
   "execution_count": 5,
   "metadata": {},
   "outputs": [],
   "source": [
    "# Width and alignments\n",
    "marvel = [('Film', 'Character', 'Actor'),\n",
    "          ('Iron Man', 'Tony Stark', 'Robert Downey Jr.'),\n",
    "          ('The Incredible Hulk', 'Bruce Banner', 'Mark Ruffalo'),\n",
    "          ('Thor Ragnarok', 'Thor', 'Chris Hemsworth'),\n",
    "          ('Captain America: The First Avenger', 'Steven Rogers', 'Chris Evans'),]"
   ]
  },
  {
   "cell_type": "code",
   "execution_count": 6,
   "metadata": {},
   "outputs": [
    {
     "name": "stdout",
     "output_type": "stream",
     "text": [
      "('Film', 'Character', 'Actor')\n",
      "('Iron Man', 'Tony Stark', 'Robert Downey Jr.')\n",
      "('The Incredible Hulk', 'Bruce Banner', 'Mark Ruffalo')\n",
      "('Thor Ragnarok', 'Thor', 'Chris Hemsworth')\n",
      "('Captain America: The First Avenger', 'Steven Rogers', 'Chris Evans')\n"
     ]
    }
   ],
   "source": [
    "for film in marvel:\n",
    "    print(film)"
   ]
  },
  {
   "cell_type": "code",
   "execution_count": 7,
   "metadata": {},
   "outputs": [
    {
     "name": "stdout",
     "output_type": "stream",
     "text": [
      "Film                                    , Character           , Actor     \n",
      "Iron Man                                , Tony Stark          , Robert Downey Jr.\n",
      "The Incredible Hulk                     , Bruce Banner        , Mark Ruffalo\n",
      "Thor Ragnarok                           , Thor                , Chris Hemsworth\n",
      "Captain America: The First Avenger      , Steven Rogers       , Chris Evans\n"
     ]
    }
   ],
   "source": [
    "# Alignment with variable space\n",
    "for film in marvel:\n",
    "    print(f'{film[0]:{40}}, {film[1]:{20}}, {film[2]:{10}}')"
   ]
  },
  {
   "cell_type": "code",
   "execution_count": 8,
   "metadata": {},
   "outputs": [
    {
     "name": "stdout",
     "output_type": "stream",
     "text": [
      "                  Film                  , Character           , ...............Actor\n",
      "                Iron Man                , Tony Stark          , ...Robert Downey Jr.\n",
      "          The Incredible Hulk           , Bruce Banner        , ........Mark Ruffalo\n",
      "             Thor Ragnarok              , Thor                , .....Chris Hemsworth\n",
      "   Captain America: The First Avenger   , Steven Rogers       , .........Chris Evans\n"
     ]
    }
   ],
   "source": [
    "for film in marvel:\n",
    "    print(f'{film[0]:^{40}}, {film[1]:{20}}, {film[2]:.>{20}}')"
   ]
  },
  {
   "cell_type": "code",
   "execution_count": null,
   "metadata": {},
   "outputs": [],
   "source": []
  }
 ],
 "metadata": {
  "kernelspec": {
   "display_name": "Python 3",
   "language": "python",
   "name": "python3"
  },
  "language_info": {
   "codemirror_mode": {
    "name": "ipython",
    "version": 3
   },
   "file_extension": ".py",
   "mimetype": "text/x-python",
   "name": "python",
   "nbconvert_exporter": "python",
   "pygments_lexer": "ipython3",
   "version": "3.7.6"
  }
 },
 "nbformat": 4,
 "nbformat_minor": 4
}
